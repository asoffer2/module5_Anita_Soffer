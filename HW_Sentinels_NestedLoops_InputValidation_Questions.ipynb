{
  "cells": [
    {
      "cell_type": "markdown",
      "metadata": {
        "id": "view-in-github",
        "colab_type": "text"
      },
      "source": [
        "<a href=\"https://colab.research.google.com/github/asoffer2/module5_Anita_Soffer/blob/main/HW_Sentinels_NestedLoops_InputValidation_Questions.ipynb\" target=\"_parent\"><img src=\"https://colab.research.google.com/assets/colab-badge.svg\" alt=\"Open In Colab\"/></a>"
      ]
    },
    {
      "cell_type": "markdown",
      "id": "90ac47ab",
      "metadata": {
        "id": "90ac47ab"
      },
      "source": [
        "# HW: Sentinels, Nested Loops, and Input Validation (≈70 minutes)\n",
        "\n",
        "**Instructions**\n",
        "- Work in order. Each task has a time estimate to help you pace yourself.\n",
        "- Do **not** use external libraries. Keep to standard Python.\n",
        "- Wherever you see `# TODO`, fill in the code.\n",
        "- Run the test cells (where provided) to sanity‑check your work.\n",
        "- If something is unclear, add a short comment explaining your reasoning.\n",
        "\n",
        "**Learning goals**\n",
        "- Use **sentinel-controlled while loops** to gather input until the user indicates “stop.”\n",
        "- Use **try/except** and loops to **validate inputs** and **reprompt**.\n",
        "- Use **nested loops** to build tables or to loop over characters in strings."
      ]
    },
    {
      "cell_type": "markdown",
      "id": "e1f28e9a",
      "metadata": {
        "id": "e1f28e9a"
      },
      "source": [
        "---\n",
        "## ⏱️ Estimated total time: ~70 minutes\n",
        "\n",
        "- **Task 1** – Sentinel stats (15 min)  \n",
        "- **Task 2** – Choice validator (8 min)  \n",
        "- **Task 3** – Multiplication grid (12 min)  \n",
        "- **Task 4** – Vowel counter across words (15 min)  \n",
        "- **Task 5** – Mini‑gradebook (20 min)"
      ]
    },
    {
      "cell_type": "markdown",
      "id": "983a92fb",
      "metadata": {
        "id": "983a92fb"
      },
      "source": [
        "---\n",
        "## Task 1 — Sentinel stats (≈15 min)\n",
        "\n",
        "Write a program that repeatedly asks the user for **integers between 0 and 100**.  \n",
        "Use a **sentinel**: the user types `done` (any case) to finish.\n",
        "\n",
        "**Requirements**\n",
        "- Ignore blank inputs (reprompt).\n",
        "- If the user types something that's not an integer in range, print a friendly message and reprompt.\n",
        "- When the user finishes, print: **count**, **sum**, **min**, **max**, and **mean** (to 2 decimals).  using f-string : {num:.2f}\n",
        "- If no valid numbers were entered, print `\"No data.\"`\n"
      ]
    },
    {
      "cell_type": "code",
      "execution_count": 45,
      "id": "bd66cac2",
      "metadata": {
        "id": "bd66cac2",
        "colab": {
          "base_uri": "https://localhost:8080/"
        },
        "outputId": "8084a29e-0b05-48cf-942e-6478f28a291f"
      },
      "outputs": [
        {
          "output_type": "stream",
          "name": "stdout",
          "text": [
            "Please enter an integer between 0 and 100, or type 'done' to quit. 67\n",
            "Please enter an integer between 0 and 100, or type 'done' to quit. 90\n",
            "Please enter an integer between 0 and 100, or type 'done' to quit. done\n",
            "Count= 2.00, Sum= 157.00, Min= 67.00, Max= 90.00, Mean= 78.50 \n"
          ]
        }
      ],
      "source": [
        "count = 0\n",
        "sum = 0\n",
        "min = 100 # any number will be less than 100, so sets min right away\n",
        "max = 0\n",
        "user_input_str = \"\"\n",
        "\n",
        "while user_input_str != \"done\":\n",
        "  user_input_str = input(\"Please enter an integer between 0 and 100, or type 'done' to quit. \")\n",
        "  if user_input_str.strip().lower() == \"done\":\n",
        "    break\n",
        "  try:\n",
        "    user_input_int = int(user_input_str)\n",
        "  except ValueError:\n",
        "    print(\"Please enter an integer\")\n",
        "    continue\n",
        "  if user_input_int < 0 or user_input_int > 100: # range\n",
        "    print(\"Out of range. Please enter an integer between 0 and 100\")\n",
        "    continue\n",
        "  count += 1\n",
        "  sum += user_input_int\n",
        "  if user_input_int < min:\n",
        "    min = user_input_int\n",
        "  if user_input_int > max:\n",
        "    max = user_input_int\n",
        "\n",
        "if count == 0: # loop never ran fully\n",
        "  print(\"No data\")\n",
        "else:\n",
        "  print(f\"Count= {count:.2f}, Sum= {sum:.2f}, Min= {min:.2f}, Max= {max:.2f}, Mean= {sum / count:.2f} \")\n",
        "\n",
        "\n"
      ]
    },
    {
      "cell_type": "markdown",
      "id": "03a0f72b",
      "metadata": {
        "id": "03a0f72b"
      },
      "source": [
        "---\n",
        "## Task 2 — Choice validator (≈8 min)\n",
        "\n",
        "Write a function `get_choice(prompt, options)` that:\n",
        "- Prints the prompt and the list of options.\n",
        "- Repeatedly asks for input until the user types **exactly** one of the options (case‑insensitive).\n",
        "- Returns the **originally cased** option from the `options` list.\n",
        "\n",
        "**Example**\n",
        "```text\n",
        "Your choice (red/blue/green): Blue\n",
        "# returns \"blue\" if options = [\"red\", \"blue\", \"green\"]\n",
        "```\n",
        "\n",
        "> Hints: Build `options_lower` once, then search it each time to find the index."
      ]
    },
    {
      "cell_type": "code",
      "execution_count": 46,
      "id": "ac138b14",
      "metadata": {
        "id": "ac138b14",
        "colab": {
          "base_uri": "https://localhost:8080/"
        },
        "outputId": "f0a98edf-4652-420a-bc9f-8651e91e7b26"
      },
      "outputs": [
        {
          "output_type": "stream",
          "name": "stdout",
          "text": [
            "Pick a dessert: ['cookie', 'cake', 'mousse']cake\n",
            "Your choice (cookie/cake/ mousse): cake\n"
          ]
        }
      ],
      "source": [
        "\n",
        "\n",
        "def get_choice(prompt, options):\n",
        "\n",
        "  options_lower = [opt.lower() for opt in options]\n",
        "  prompt = prompt + str(options_lower)\n",
        "\n",
        "  while True:\n",
        "    user_input = input(prompt)\n",
        "    if user_input in options_lower:\n",
        "      print(f\"Your choice ({options[0]}/{options[1]}/ {options[2]}): {user_input}\")\n",
        "      return user_input\n",
        "    else:\n",
        "      print(\"Please enter one of the allowed options.\")\n",
        "      continue\n",
        "\n",
        "\n",
        "dessert = get_choice(\"Pick a dessert: \", [\"cookie\", \"cake\", \"mousse\"])\n",
        "\n"
      ]
    },
    {
      "cell_type": "code",
      "execution_count": 47,
      "id": "c11c898d",
      "metadata": {
        "id": "c11c898d"
      },
      "outputs": [],
      "source": [
        "# (Quick check) Manually try:\n",
        "# color = get_choice(\"Pick a color\", [\"red\",\"blue\",\"green\"])\n",
        "# print(\"You picked:\", color)"
      ]
    },
    {
      "cell_type": "markdown",
      "id": "003c976f",
      "metadata": {
        "id": "003c976f"
      },
      "source": [
        "---\n",
        "## Task 3 — Multiplication grid (≈12 min)\n",
        "\n",
        "Prompt the user for two **integers** `rows` and `cols` in the range **1..10**.  \n",
        "Validate both with try/except and reprompt until valid.\n",
        "\n",
        "Then print a **rows × cols** multiplication table, where each cell shows `r*c` (1‑indexed).  \n",
        "Format with spaces so columns line up **at least** for small sizes.\n",
        "\n",
        "**Example (rows=3, cols=4)**\n",
        "```\n",
        "    1  2  3  4\n",
        " 1: 1  2  3  4\n",
        " 2: 2  4  6  8\n",
        " 3: 3  6  9 12\n",
        "```"
      ]
    },
    {
      "cell_type": "code",
      "execution_count": 51,
      "id": "db519675",
      "metadata": {
        "id": "db519675",
        "colab": {
          "base_uri": "https://localhost:8080/"
        },
        "outputId": "d5ab07af-aaa6-4f0b-9ebd-849624f661dc"
      },
      "outputs": [
        {
          "output_type": "stream",
          "name": "stdout",
          "text": [
            "How many rows? (Integer between 1 and 10) 3\n",
            "How many columns? (Integer between 1 and 10) 4\n",
            "   1 2 3 4 \n",
            "1: 1 2 3 4 \n",
            "2: 2 4 6 8 \n",
            "3: 3 6 9 12 \n"
          ]
        }
      ],
      "source": [
        "while True:\n",
        "  try:\n",
        "    rows = int(input(\"How many rows? (Integer between 1 and 10) \"))\n",
        "  except ValueError:\n",
        "    print(\"Please enter an integer\")\n",
        "    continue\n",
        "  try:\n",
        "    cols = int(input(\"How many columns? (Integer between 1 and 10) \"))\n",
        "  except ValueError:\n",
        "    print(\"Please enter an integer\")\n",
        "    continue\n",
        "  if 1 < rows < 10 and 1 < cols < 10:\n",
        "    print(\"  \", end = \" \")\n",
        "    for c in range(1, cols + 1):\n",
        "      print(c, end = \" \")\n",
        "    print()\n",
        "    for r in range( 1, rows + 1):\n",
        "      print(f\"{r}:\", end = \" \")\n",
        "      for c in range(1, cols + 1):\n",
        "        print(r * c, end = \" \")\n",
        "      print()\n",
        "  break\n",
        "\n"
      ]
    },
    {
      "cell_type": "markdown",
      "id": "416bab28",
      "metadata": {
        "id": "416bab28"
      },
      "source": [
        "---\n",
        "## Task 4 — Vowel counter across words (≈15 min)\n",
        "\n",
        "Use a **sentinel** loop to read words until the user types `done`.  \n",
        "For each word, use a **nested loop** (loop over characters) to count **vowels** `a e i o u` (case‑insensitive).\n",
        "\n",
        "**Output**\n",
        "- After each word, print `\"{word}\" has {k} vowel(s)`.\n",
        "- At the end, print the **total number of vowels** across all words.\n",
        "\n",
        "> Hints: A string is looped over the way a list is.  Use `for ch in word:` to examine each character in the string; compare `ch.lower()` against a set like `{'a','e','i','o','u'}`."
      ]
    },
    {
      "cell_type": "code",
      "execution_count": 64,
      "id": "c7a96d30",
      "metadata": {
        "id": "c7a96d30",
        "colab": {
          "base_uri": "https://localhost:8080/"
        },
        "outputId": "7eddb938-90b7-4a52-e6a3-f61df73ab8cf"
      },
      "outputs": [
        {
          "output_type": "stream",
          "name": "stdout",
          "text": [
            "Please enter a word or type 'done' to exit fear\n",
            "Please enter a word or type 'done' to exit aura\n",
            "Please enter a word or type 'done' to exit amaze\n",
            "Please enter a word or type 'done' to exit rare\n",
            "Please enter a word or type 'done' to exit done\n",
            "fear has 2 vowel(s)\n",
            "aura has 3 vowel(s)\n",
            "amaze has 3 vowel(s)\n",
            "rare has 2 vowel(s)\n",
            "Total number of vowels:10\n"
          ]
        }
      ],
      "source": [
        "# word_list = []\n",
        "# vowels_list = [\"a\", \"e\", \"i\", \"o\", \"u\"]\n",
        "# user_input = \"\"\n",
        "# vowel_count = 0\n",
        "# total_vowels = 0\n",
        "\n",
        "# while user_input != \"done\":\n",
        "#   user_input = input(\"Please enter a word or type 'done' to exit \").lower().strip()\n",
        "#   word_list.append(user_input)\n",
        "#   for word in word_list:\n",
        "#     vowel_count = 0\n",
        "#     word_list = []\n",
        "#     for char in word:\n",
        "#       if char in vowels_list:\n",
        "#         vowel_count += 1\n",
        "#         total_vowels += vowel_count\n",
        "#   print(f\"{word} has {vowel_count} vowel(s)\")\n",
        "# print(f\"Total number of vowels: {total_vowels}\")\n",
        "\n",
        "user_input = \"\"\n",
        "vowels_list = [\"a\", \"e\", \"i\", \"o\", \"u\"]\n",
        "word_list = []\n",
        "total_vowels = 0\n",
        "\n",
        "while user_input != \"done\":\n",
        "  user_input = input(\"Please enter a word or type 'done' to exit \").lower().strip()\n",
        "  word_list.append(user_input)\n",
        "for word in word_list:\n",
        "  vowel_count = 0\n",
        "  for char in word:\n",
        "    if char in vowels_list:\n",
        "      vowel_count += 1\n",
        "      total_vowels += 1\n",
        "  if word == \"done\":\n",
        "    break\n",
        "  else:\n",
        "    print(f\"{word} has {vowel_count} vowel(s)\")\n",
        "\n",
        "print(f\"Total number of vowels:{total_vowels - 2}\") # subtracts \"done\"'s vowels\n",
        "\n",
        "\n",
        "\n",
        "\n",
        "\n",
        ""
      ]
    },
    {
      "cell_type": "markdown",
      "id": "98dd5563",
      "metadata": {
        "id": "98dd5563"
      },
      "source": [
        "---\n",
        "## Task 5 — Mini‑gradebook (≈20 min)\n",
        "\n",
        "Build a tiny gradebook using **both** a sentinel loop and a nested loop.\n",
        "\n",
        "**Requirements**\n",
        "1. Repeatedly ask for a **student name** until the user types `done` (sentinel).  \n",
        "   - Ignore blank names.\n",
        "2. For each student, read exactly **3 scores** (0..100, integers).  \n",
        "   - Use input validation with try/except; reprompt on bad input.\n",
        "3. Store each student's average in a dictionary `grades[name] = avg`.\n",
        "4. After input ends, print a **simple report** sorted by name:\n",
        "   ```\n",
        "   Alice : 88.00\n",
        "   Bob   : 92.33\n",
        "   ```\n",
        "\n",
        "**Stretch (optional)**  \n",
        "- Also print the **class average**."
      ]
    },
    {
      "cell_type": "code",
      "execution_count": 65,
      "id": "b4c87c4c",
      "metadata": {
        "id": "b4c87c4c",
        "colab": {
          "base_uri": "https://localhost:8080/"
        },
        "outputId": "e12757b3-1325-4e74-d2ff-83833a9290c4"
      },
      "outputs": [
        {
          "output_type": "stream",
          "name": "stdout",
          "text": [
            "Please enter a student name or type 'done' to exit tom\n",
            "Please enter a student name or type 'done' to exit jim\n",
            "Please enter a student name or type 'done' to exit astrid\n",
            "Please enter a student name or type 'done' to exit done\n",
            "Please enter a score for tom 98\n",
            "Please enter a score for tom 79\n",
            "Please enter a score for tom 90\n",
            "Please enter a score for jim 78\n",
            "Please enter a score for jim 67\n",
            "Please enter a score for jim 76\n",
            "Please enter a score for astrid 67\n",
            "Please enter a score for astrid 90\n",
            "Please enter a score for astrid 100\n",
            "tom: 89.0\n",
            "jim: 73.66666666666667\n",
            "astrid: 85.66666666666667\n"
          ]
        }
      ],
      "source": [
        "student_name = \"\"\n",
        "grades = {}\n",
        "name_list = []\n",
        "\n",
        "while student_name != \"done\":\n",
        "  student_name = input(\"Please enter a student name or type 'done' to exit \").strip().lower()\n",
        "  if student_name == \"\" or student_name == \"done\":\n",
        "    break\n",
        "  else:\n",
        "    name_list.append(student_name)\n",
        "    continue\n",
        "for name in name_list:\n",
        "  try:\n",
        "    grade_1 = int(input(f\"Please enter a score for {name} \"))\n",
        "    if grade_1 < 0 or grade_1 > 100:\n",
        "      raise ValueError\n",
        "  except ValueError:\n",
        "    print(\"Please enter an integer between 0 and 100\")\n",
        "    continue\n",
        "  try:\n",
        "    grade_2 = int(input(f\"Please enter a score for {name} \"))\n",
        "    if grade_1 < 0 or grade_1 > 100:\n",
        "      raise ValueError\n",
        "  except ValueError:\n",
        "    print(\"Please enter an integer between 0 and 100\")\n",
        "    continue\n",
        "  try:\n",
        "    grade_3 = int(input(f\"Please enter a score for {name} \"))\n",
        "    if grade_1 < 0 or grade_1 > 100:\n",
        "      raise ValueError\n",
        "  except ValueError:\n",
        "    print(\"Please enter an integer between 0 and 100\")\n",
        "    continue\n",
        "  avg = (grade_1 + grade_2 + grade_3) / 3\n",
        "  grades[f\"{name}\"] = (f\"{avg}\")\n",
        "for key, value in grades.items():\n",
        "  print(f\"{key}: {value}\")\n",
        "\n",
        "\n",
        "\n",
        "\n",
        "\n"
      ]
    },
    {
      "cell_type": "markdown",
      "id": "0d1a8cf7",
      "metadata": {
        "id": "0d1a8cf7"
      },
      "source": [
        "---\n",
        "### ✅ Submission checklist\n",
        "\n",
        "- [ ] Notebook runs top‑to‑bottom without errors\n",
        "- [ ] Brief comments added where logic might be unclear\n",
        "- [ ] Push this notebook to your GitHub as part of your assignment submission, submit link to Canvas"
      ]
    }
  ],
  "metadata": {
    "colab": {
      "provenance": [],
      "include_colab_link": true
    },
    "language_info": {
      "name": "python"
    },
    "kernelspec": {
      "name": "python3",
      "display_name": "Python 3"
    }
  },
  "nbformat": 4,
  "nbformat_minor": 5
}